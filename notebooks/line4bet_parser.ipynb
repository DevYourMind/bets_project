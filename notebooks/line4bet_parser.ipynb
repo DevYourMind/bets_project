{
 "cells": [
  {
   "cell_type": "code",
   "execution_count": 10,
   "metadata": {},
   "outputs": [],
   "source": [
    "import pandas as pd\n",
    "import numpy as np\n",
    "import requests\n",
    "from bs4 import BeautifulSoup as bs\n",
    "from selenium import webdriver\n",
    "from selenium.webdriver.common.keys import Keys\n",
    "from selenium.webdriver.common.by import By\n",
    "import datetime as dt\n",
    "import uuid\n",
    "from time import sleep"
   ]
  },
  {
   "cell_type": "code",
   "execution_count": 11,
   "metadata": {},
   "outputs": [],
   "source": [
    "url = 'https://line4bet.ru/1x-13-03-2023-football/'"
   ]
  },
  {
   "cell_type": "code",
   "execution_count": 12,
   "metadata": {},
   "outputs": [],
   "source": [
    "driver = webdriver.Chrome()\n",
    "driver.get(url)\n",
    "assert 'Движение линий' in driver.title"
   ]
  },
  {
   "cell_type": "code",
   "execution_count": 13,
   "metadata": {},
   "outputs": [],
   "source": [
    "# \"Теннис\" button searching\n",
    "tennis_btn = driver.find_elements(By.ID, 'tennis_btn')\n",
    "assert len(tennis_btn) > 0\n",
    "tennis_btn[0].click()"
   ]
  },
  {
   "cell_type": "code",
   "execution_count": 14,
   "metadata": {},
   "outputs": [],
   "source": [
    "# looking for available date\n",
    "previous_date = dt.datetime.today() - dt.timedelta(days=1)\n",
    "prev_day = previous_date.day\n",
    "dates_objects = driver.find_elements(By.XPATH, \"//td[@Data-handler]\")\n",
    "dates_objects[prev_day-1].click()"
   ]
  },
  {
   "cell_type": "code",
   "execution_count": 15,
   "metadata": {},
   "outputs": [],
   "source": [
    "# gettting all available tables\n",
    "table_data = driver.find_elements(By.XPATH, \"//table\")"
   ]
  },
  {
   "cell_type": "code",
   "execution_count": 17,
   "metadata": {},
   "outputs": [
    {
     "data": {
      "text/plain": [
       "'<table class=\"ui-datepicker-calendar\"><thead><tr><th scope=\"col\"><span title=\"Понедельник\">Пн</span></th><th scope=\"col\"><span title=\"Вторник\">Вт</span></th><th scope=\"col\"><span title=\"Среда\">Ср</span></th><th scope=\"col\"><span title=\"Четверг\">Чт</span></th><th scope=\"col\"><span title=\"Пятница\">Пт</span></th><th scope=\"col\" class=\"ui-datepicker-week-end\"><span title=\"Суббота\">Сб</span></th><th scope=\"col\" class=\"ui-datepicker-week-end\"><span title=\"Воскресенье\">Вс</span></th></tr></thead><tbody><tr><td class=\" \" data-handler=\"selectDay\" data-event=\"click\" data-month=\"4\" data-year=\"2023\"><a class=\"ui-state-default\" href=\"#\">1</a></td><td class=\" \" data-handler=\"selectDay\" data-event=\"click\" data-month=\"4\" data-year=\"2023\"><a class=\"ui-state-default\" href=\"#\">2</a></td><td class=\" \" data-handler=\"selectDay\" data-event=\"click\" data-month=\"4\" data-year=\"2023\"><a class=\"ui-state-default\" href=\"#\">3</a></td><td class=\" \" data-handler=\"selectDay\" data-event=\"click\" data-month=\"4\" data-year=\"2023\"><a class=\"ui-state-default\" href=\"#\">4</a></td><td class=\" \" data-handler=\"selectDay\" data-event=\"click\" data-month=\"4\" data-year=\"2023\"><a class=\"ui-state-default\" href=\"#\">5</a></td><td class=\" ui-datepicker-week-end \" data-handler=\"selectDay\" data-event=\"click\" data-month=\"4\" data-year=\"2023\"><a class=\"ui-state-default\" href=\"#\">6</a></td><td class=\" ui-datepicker-week-end \" data-handler=\"selectDay\" data-event=\"click\" data-month=\"4\" data-year=\"2023\"><a class=\"ui-state-default\" href=\"#\">7</a></td></tr><tr><td class=\" \" data-handler=\"selectDay\" data-event=\"click\" data-month=\"4\" data-year=\"2023\"><a class=\"ui-state-default\" href=\"#\">8</a></td><td class=\" \" data-handler=\"selectDay\" data-event=\"click\" data-month=\"4\" data-year=\"2023\"><a class=\"ui-state-default\" href=\"#\">9</a></td><td class=\" \" data-handler=\"selectDay\" data-event=\"click\" data-month=\"4\" data-year=\"2023\"><a class=\"ui-state-default\" href=\"#\">10</a></td><td class=\" \" data-handler=\"selectDay\" data-event=\"click\" data-month=\"4\" data-year=\"2023\"><a class=\"ui-state-default\" href=\"#\">11</a></td><td class=\" \" data-handler=\"selectDay\" data-event=\"click\" data-month=\"4\" data-year=\"2023\"><a class=\"ui-state-default\" href=\"#\">12</a></td><td class=\" ui-datepicker-week-end \" data-handler=\"selectDay\" data-event=\"click\" data-month=\"4\" data-year=\"2023\"><a class=\"ui-state-default\" href=\"#\">13</a></td><td class=\" ui-datepicker-week-end \" data-handler=\"selectDay\" data-event=\"click\" data-month=\"4\" data-year=\"2023\"><a class=\"ui-state-default\" href=\"#\">14</a></td></tr><tr><td class=\" \" data-handler=\"selectDay\" data-event=\"click\" data-month=\"4\" data-year=\"2023\"><a class=\"ui-state-default\" href=\"#\">15</a></td><td class=\" \" data-handler=\"selectDay\" data-event=\"click\" data-month=\"4\" data-year=\"2023\"><a class=\"ui-state-default\" href=\"#\">16</a></td><td class=\" \" data-handler=\"selectDay\" data-event=\"click\" data-month=\"4\" data-year=\"2023\"><a class=\"ui-state-default\" href=\"#\">17</a></td><td class=\" \" data-handler=\"selectDay\" data-event=\"click\" data-month=\"4\" data-year=\"2023\"><a class=\"ui-state-default\" href=\"#\">18</a></td><td class=\"  ui-datepicker-current-day\" data-handler=\"selectDay\" data-event=\"click\" data-month=\"4\" data-year=\"2023\"><a class=\"ui-state-default ui-state-active ui-state-hover\" href=\"#\">19</a></td><td class=\" ui-datepicker-week-end  ui-datepicker-today\" data-handler=\"selectDay\" data-event=\"click\" data-month=\"4\" data-year=\"2023\"><a class=\"ui-state-default ui-state-highlight\" href=\"#\">20</a></td><td class=\" ui-datepicker-week-end \" data-handler=\"selectDay\" data-event=\"click\" data-month=\"4\" data-year=\"2023\"><a class=\"ui-state-default\" href=\"#\">21</a></td></tr><tr><td class=\" \" data-handler=\"selectDay\" data-event=\"click\" data-month=\"4\" data-year=\"2023\"><a class=\"ui-state-default\" href=\"#\">22</a></td><td class=\" \" data-handler=\"selectDay\" data-event=\"click\" data-month=\"4\" data-year=\"2023\"><a class=\"ui-state-default\" href=\"#\">23</a></td><td class=\" \" data-handler=\"selectDay\" data-event=\"click\" data-month=\"4\" data-year=\"2023\"><a class=\"ui-state-default\" href=\"#\">24</a></td><td class=\" \" data-handler=\"selectDay\" data-event=\"click\" data-month=\"4\" data-year=\"2023\"><a class=\"ui-state-default\" href=\"#\">25</a></td><td class=\" \" data-handler=\"selectDay\" data-event=\"click\" data-month=\"4\" data-year=\"2023\"><a class=\"ui-state-default\" href=\"#\">26</a></td><td class=\" ui-datepicker-week-end \" data-handler=\"selectDay\" data-event=\"click\" data-month=\"4\" data-year=\"2023\"><a class=\"ui-state-default\" href=\"#\">27</a></td><td class=\" ui-datepicker-week-end \" data-handler=\"selectDay\" data-event=\"click\" data-month=\"4\" data-year=\"2023\"><a class=\"ui-state-default\" href=\"#\">28</a></td></tr><tr><td class=\" \" data-handler=\"selectDay\" data-event=\"click\" data-month=\"4\" data-year=\"2023\"><a class=\"ui-state-default\" href=\"#\">29</a></td><td class=\" \" data-handler=\"selectDay\" data-event=\"click\" data-month=\"4\" data-year=\"2023\"><a class=\"ui-state-default\" href=\"#\">30</a></td><td class=\" \" data-handler=\"selectDay\" data-event=\"click\" data-month=\"4\" data-year=\"2023\"><a class=\"ui-state-default\" href=\"#\">31</a></td><td class=\" ui-datepicker-other-month ui-datepicker-unselectable ui-state-disabled\">&nbsp;</td><td class=\" ui-datepicker-other-month ui-datepicker-unselectable ui-state-disabled\">&nbsp;</td><td class=\" ui-datepicker-week-end ui-datepicker-other-month ui-datepicker-unselectable ui-state-disabled\">&nbsp;</td><td class=\" ui-datepicker-week-end ui-datepicker-other-month ui-datepicker-unselectable ui-state-disabled\">&nbsp;</td></tr></tbody></table>'"
      ]
     },
     "execution_count": 17,
     "metadata": {},
     "output_type": "execute_result"
    }
   ],
   "source": [
    "# event\n",
    "table_data[0].get_attribute('outerHTML')"
   ]
  },
  {
   "cell_type": "code",
   "execution_count": 18,
   "metadata": {},
   "outputs": [],
   "source": [
    "table_data = driver.find_elements(By.XPATH, \"//table\")"
   ]
  },
  {
   "cell_type": "code",
   "execution_count": 19,
   "metadata": {},
   "outputs": [
    {
     "data": {
      "text/plain": [
       "'<table class=\"event\"><tbody><tr><td>19.05.2023 14:10   Желински/Нис - Гранольерс/Себальос;      (ID=1245)</td> <td> Теннис :  ATP. Рим. Пары </td> </tr> <tr><td colspan=\"2\">Итог матча:\\t   \\t Счет: 2:0 (6:3,7:5),  Победа: Желински/Нис,\\tТотал Матча: 21,\\t (ИТ1=13,  ИТ2=8,\\tD=5) </td></tr> </tbody></table>'"
      ]
     },
     "execution_count": 19,
     "metadata": {},
     "output_type": "execute_result"
    }
   ],
   "source": [
    "# event data\n",
    "table_data[1].get_attribute('outerHTML')"
   ]
  },
  {
   "cell_type": "code",
   "execution_count": 20,
   "metadata": {},
   "outputs": [
    {
     "data": {
      "text/plain": [
       "'<table>   <tbody><tr> <th> Дата-время скана линии </th><th> П1 </th><th> П2 </th><th> 1Х </th><th> 2Х </th><th> Х </th><th> 12 </th><th> ТМ </th><th> ТМ бол </th><th> ТМ мен </th><th> ФОРА 1 </th><th> Коэф Ф1 </th><th> ФОРА 2 </th><th> Коэф Ф2 </th><th> Инд ТОТ 1 </th><th> ИТ1 бол </th><th> ИТ1 мен </th><th> Инд ТОТ 2 </th><th> ИТ2 бол </th><th> ИТ2 мен </th><th> Прим. </th></tr> <tr>  <td>18 май 20:10 </td><td>2,08</td><td>1,71</td><td></td><td></td><td></td><td></td><td>20,5</td><td>1,95</td><td>1,81</td><td>0,5</td><td>1,92</td><td>-0,5</td><td>1,84</td><td>10,5</td><td>1,89</td><td>1,79</td><td>12,5</td><td>3,56</td><td>1,24</td><td></td> </tr>  <tr>  <td>19 май 11:10 </td><td class=\"c2\">2,06</td><td class=\"c1\">1,72</td><td></td><td></td><td></td><td></td><td>20,5</td><td class=\"c2\">1,9</td><td class=\"c1\">1,86</td><td>0,5</td><td>1,92</td><td>-0,5</td><td>1,84</td><td>10,5</td><td class=\"c2\">1,87</td><td class=\"c1\">1,81</td><td>12,5</td><td class=\"c2\">3,48</td><td class=\"c1\">1,25</td><td></td> </tr>  <tr>  <td>19 май 11:30 </td><td class=\"c2\">2,05</td><td class=\"c1\">1,73</td><td></td><td></td><td></td><td></td><td>20,5</td><td class=\"c2\">1,74</td><td class=\"c1\">2,04</td><td>0,5</td><td class=\"c2\">1,9</td><td>-0,5</td><td class=\"c1\">1,86</td><td>10,5</td><td class=\"c2\">1,79</td><td class=\"c1\">1,89</td><td>12,5</td><td class=\"c2\">3,24</td><td class=\"c1\">1,29</td><td></td> </tr>  <tr>  <td>19 май 11:50 </td><td>2,05</td><td>1,73</td><td></td><td></td><td></td><td></td><td>20,5</td><td class=\"c2\">1,73</td><td class=\"c1\">2,06</td><td>0,5</td><td>1,9</td><td>-0,5</td><td>1,86</td><td>10,5</td><td>1,79</td><td>1,89</td><td>12,5</td><td class=\"c2\">3,2</td><td>1,29</td><td></td> </tr>  <tr>  <td>19 май 12:40 </td><td class=\"c1\">2,06</td><td class=\"c2\">1,72</td><td></td><td></td><td></td><td></td><td>20,5</td><td class=\"c1\">1,8</td><td class=\"c2\">1,96</td><td>0,5</td><td class=\"c1\">1,91</td><td>-0,5</td><td class=\"c2\">1,85</td><td>10,5</td><td class=\"c1\">1,83</td><td class=\"c2\">1,85</td><td>12,5</td><td class=\"c1\">3,34</td><td class=\"c2\">1,27</td><td></td> </tr>  <tr>  <td>19 май 12:50 </td><td class=\"c1\">2,09</td><td class=\"c2\">1,7</td><td></td><td></td><td></td><td></td><td>20,5</td><td class=\"c2\">1,79</td><td class=\"c1\">1,97</td><td>0,5</td><td class=\"c1\">1,93</td><td>-0,5</td><td class=\"c2\">1,83</td><td>10,5</td><td class=\"c1\">1,84</td><td class=\"c2\">1,84</td><td>12,5</td><td class=\"c2\">3,26</td><td class=\"c1\">1,28</td><td></td> </tr>  <tr>  <td>19 май 13:00 </td><td class=\"c1\">2,14</td><td class=\"c2\">1,68</td><td></td><td></td><td></td><td></td><td>20,5</td><td class=\"c1\">1,8</td><td class=\"c2\">1,96</td><td>0,5</td><td class=\"c1\">1,99</td><td>-0,5</td><td class=\"c2\">1,78</td><td>10,5</td><td class=\"c1\">1,88</td><td class=\"c2\">1,8</td><td>12,5</td><td class=\"c2\">3,24</td><td class=\"c1\">1,29</td><td></td> </tr>  <tr>  <td>19 май 13:20 </td><td>2,14</td><td class=\"c1\">1,69</td><td></td><td></td><td></td><td></td><td>20,5</td><td class=\"c2\">1,74</td><td class=\"c1\">2,04</td><td>0,5</td><td class=\"c2\">1,98</td><td>-0,5</td><td class=\"c1\">1,79</td><td>10,5</td><td class=\"c2\">1,85</td><td class=\"c1\">1,83</td><td>12,5</td><td class=\"c2\">3,14</td><td class=\"c1\">1,3</td><td></td> </tr>  <tr>  <td>19 май 13:30 </td><td class=\"c1\">2,16</td><td class=\"c2\">1,67</td><td></td><td></td><td></td><td></td><td>20,5</td><td>1,74</td><td>2,04</td><td>0,5</td><td class=\"c1\">2</td><td>-0,5</td><td class=\"c2\">1,77</td><td>10,5</td><td class=\"c1\">1,86</td><td class=\"c2\">1,82</td><td>12,5</td><td class=\"c2\">3,08</td><td class=\"c1\">1,31</td><td></td> </tr>  <tr>  <td>19 май 13:40 </td><td class=\"c2\">2,14</td><td class=\"c1\">1,68</td><td></td><td></td><td></td><td></td><td>20,5</td><td class=\"c1\">1,75</td><td class=\"c2\">2,02</td><td>0,5</td><td class=\"c2\">1,99</td><td>-0,5</td><td class=\"c1\">1,78</td><td>10,5</td><td>1,86</td><td>1,82</td><td>12,5</td><td class=\"c1\">3,14</td><td class=\"c2\">1,3</td><td></td> </tr>  <tr>  <td>19 май 14:00 </td><td class=\"c1\">2,15</td><td class=\"c1\">1,7</td><td></td><td></td><td></td><td></td><td>20,5</td><td class=\"c1\">1,96</td><td class=\"c2\">1,85</td><td>0,5</td><td class=\"c2\">1,96</td><td>-0,5</td><td class=\"c1\">1,85</td><td>10,5</td><td class=\"c1\">1,9</td><td class=\"c2\">1,8</td><td>12,5</td><td>3,14</td><td>1,3</td><td></td> </tr>  <tr>  <td>ИТОГО (%)</td><td class=\"c1\">3,4</td><td class=\"c2\">-0,6</td> <td> </td> <td> </td> <td> </td> <td> </td> <td> </td><td class=\"c1\">0,5</td><td class=\"c1\">2,2</td> <td> </td><td class=\"c1\">2,1</td> <td> </td><td class=\"c1\">0,5</td> <td> </td><td class=\"c1\">0,5</td><td class=\"c1\">0,6</td> <td> </td><td class=\"c2\">-11,8</td><td class=\"c1\">4,8</td> <td> </td> </tr>  </tbody></table>'"
      ]
     },
     "execution_count": 20,
     "metadata": {},
     "output_type": "execute_result"
    }
   ],
   "source": [
    "# coefficients\n",
    "table_data[2].get_attribute('outerHTML')"
   ]
  },
  {
   "cell_type": "code",
   "execution_count": 21,
   "metadata": {},
   "outputs": [
    {
     "data": {
      "text/plain": [
       "'<table class=\"event\"><tbody><tr><td>19.05.2023 23:30   Коольхоф/Скупски - Ван Де Зандшульп/Хаазе;      (ID=1244)</td> <td> Теннис :  ATP. Рим. Пары </td> </tr> <tr><td colspan=\"2\">Итог матча:\\t   \\t Счет: 0:2 (6:7,4:6),  Победа: Ван Де Зандшульп/Хаазе,\\tТотал Матча: 23,\\t (ИТ1=10,  ИТ2=13,\\tD=3) </td></tr> </tbody></table>'"
      ]
     },
     "execution_count": 21,
     "metadata": {},
     "output_type": "execute_result"
    }
   ],
   "source": [
    "# all three tags above are recursively repeated\n",
    "table_data[3].get_attribute('outerHTML')"
   ]
  },
  {
   "cell_type": "code",
   "execution_count": 22,
   "metadata": {},
   "outputs": [
    {
     "data": {
      "text/plain": [
       "'<table>   <tbody><tr> <th> Дата-время скана линии </th><th> П1 </th><th> П2 </th><th> 1Х </th><th> 2Х </th><th> Х </th><th> 12 </th><th> ТМ </th><th> ТМ бол </th><th> ТМ мен </th><th> ФОРА 1 </th><th> Коэф Ф1 </th><th> ФОРА 2 </th><th> Коэф Ф2 </th><th> Инд ТОТ 1 </th><th> ИТ1 бол </th><th> ИТ1 мен </th><th> Инд ТОТ 2 </th><th> ИТ2 бол </th><th> ИТ2 мен </th><th> Прим. </th></tr> <tr>  <td>19 май 11:40 </td><td>2,9</td><td>1,37</td><td></td><td></td><td></td><td></td><td>21,5</td><td>1,87</td><td>1,83</td><td>3,5</td><td>1,94</td><td>-3,5</td><td>1,77</td><td>10,5</td><td>1,78</td><td>1,88</td><td>12,5</td><td>1,85</td><td>1,81</td><td></td> </tr>  <tr>  <td>19 май 12:30 </td><td class=\"c2\">2,74</td><td class=\"c1\">1,41</td><td></td><td></td><td></td><td></td><td>21,5</td><td class=\"c2\">1,86</td><td class=\"c1\">1,84</td><td>3,5</td><td class=\"c2\">1,88</td><td>-3,5</td><td class=\"c1\">1,82</td><td class=\"c1\">11,5</td><td class=\"c1\">1,84</td><td class=\"c2\">1,82</td><td>12,5</td><td class=\"c1\">1,87</td><td class=\"c2\">1,79</td><td></td> </tr>  <tr>  <td>19 май 13:00 </td><td class=\"c1\">2,86</td><td class=\"c2\">1,38</td><td></td><td></td><td></td><td></td><td>21,5</td><td class=\"c1\">1,88</td><td class=\"c2\">1,82</td><td>3,5</td><td class=\"c1\">1,94</td><td>-3,5</td><td class=\"c2\">1,77</td><td class=\"c2\">10,5</td><td class=\"c2\">1,77</td><td class=\"c1\">1,9</td><td>12,5</td><td class=\"c1\">1,88</td><td class=\"c2\">1,78</td><td></td> </tr>  <tr>  <td>ИТОГО (%)</td><td class=\"c2\">-1,4</td><td class=\"c1\">0,7</td> <td> </td> <td> </td> <td> </td> <td> </td> <td> </td><td class=\"c1\">0,5</td><td class=\"c2\">-0,5</td> <td> </td><td class=\"c1\">0</td> <td> </td><td class=\"c1\">0</td> <td> </td><td class=\"c2\">-0,6</td><td class=\"c1\">1,1</td> <td> </td><td class=\"c1\">1,6</td><td class=\"c2\">-1,7</td> <td> </td> </tr>  </tbody></table>'"
      ]
     },
     "execution_count": 22,
     "metadata": {},
     "output_type": "execute_result"
    }
   ],
   "source": [
    "# another table\n",
    "table_data[-2].get_attribute(\"outerHTML\")"
   ]
  },
  {
   "cell_type": "code",
   "execution_count": 23,
   "metadata": {},
   "outputs": [
    {
     "data": {
      "text/plain": [
       "'<table class=\"ui-datepicker-calendar\"><thead><tr><th scope=\"col\"><span title=\"Понедельник\">Пн</span></th><th scope=\"col\"><span title=\"Вторник\">Вт</span></th><th scope=\"col\"><span title=\"Среда\">Ср</span></th><th scope=\"col\"><span title=\"Четверг\">Чт</span></th><th scope=\"col\"><span title=\"Пятница\">Пт</span></th><th scope=\"col\" class=\"ui-datepicker-week-end\"><span title=\"Суббота\">Сб</span></th><th scope=\"col\" class=\"ui-datepicker-week-end\"><span title=\"Воскресенье\">Вс</span></th></tr></thead><tbody><tr><td class=\" \" data-handler=\"selectDay\" data-event=\"click\" data-month=\"4\" data-year=\"2023\"><a class=\"ui-state-default\" href=\"#\">1</a></td><td class=\" \" data-handler=\"selectDay\" data-event=\"click\" data-month=\"4\" data-year=\"2023\"><a class=\"ui-state-default\" href=\"#\">2</a></td><td class=\" \" data-handler=\"selectDay\" data-event=\"click\" data-month=\"4\" data-year=\"2023\"><a class=\"ui-state-default\" href=\"#\">3</a></td><td class=\" \" data-handler=\"selectDay\" data-event=\"click\" data-month=\"4\" data-year=\"2023\"><a class=\"ui-state-default\" href=\"#\">4</a></td><td class=\" \" data-handler=\"selectDay\" data-event=\"click\" data-month=\"4\" data-year=\"2023\"><a class=\"ui-state-default\" href=\"#\">5</a></td><td class=\" ui-datepicker-week-end \" data-handler=\"selectDay\" data-event=\"click\" data-month=\"4\" data-year=\"2023\"><a class=\"ui-state-default\" href=\"#\">6</a></td><td class=\" ui-datepicker-week-end \" data-handler=\"selectDay\" data-event=\"click\" data-month=\"4\" data-year=\"2023\"><a class=\"ui-state-default\" href=\"#\">7</a></td></tr><tr><td class=\" \" data-handler=\"selectDay\" data-event=\"click\" data-month=\"4\" data-year=\"2023\"><a class=\"ui-state-default\" href=\"#\">8</a></td><td class=\" \" data-handler=\"selectDay\" data-event=\"click\" data-month=\"4\" data-year=\"2023\"><a class=\"ui-state-default\" href=\"#\">9</a></td><td class=\" \" data-handler=\"selectDay\" data-event=\"click\" data-month=\"4\" data-year=\"2023\"><a class=\"ui-state-default\" href=\"#\">10</a></td><td class=\" \" data-handler=\"selectDay\" data-event=\"click\" data-month=\"4\" data-year=\"2023\"><a class=\"ui-state-default\" href=\"#\">11</a></td><td class=\" \" data-handler=\"selectDay\" data-event=\"click\" data-month=\"4\" data-year=\"2023\"><a class=\"ui-state-default\" href=\"#\">12</a></td><td class=\" ui-datepicker-week-end \" data-handler=\"selectDay\" data-event=\"click\" data-month=\"4\" data-year=\"2023\"><a class=\"ui-state-default\" href=\"#\">13</a></td><td class=\" ui-datepicker-week-end \" data-handler=\"selectDay\" data-event=\"click\" data-month=\"4\" data-year=\"2023\"><a class=\"ui-state-default\" href=\"#\">14</a></td></tr><tr><td class=\" \" data-handler=\"selectDay\" data-event=\"click\" data-month=\"4\" data-year=\"2023\"><a class=\"ui-state-default\" href=\"#\">15</a></td><td class=\" \" data-handler=\"selectDay\" data-event=\"click\" data-month=\"4\" data-year=\"2023\"><a class=\"ui-state-default\" href=\"#\">16</a></td><td class=\" \" data-handler=\"selectDay\" data-event=\"click\" data-month=\"4\" data-year=\"2023\"><a class=\"ui-state-default\" href=\"#\">17</a></td><td class=\" \" data-handler=\"selectDay\" data-event=\"click\" data-month=\"4\" data-year=\"2023\"><a class=\"ui-state-default\" href=\"#\">18</a></td><td class=\"  ui-datepicker-current-day\" data-handler=\"selectDay\" data-event=\"click\" data-month=\"4\" data-year=\"2023\"><a class=\"ui-state-default ui-state-active ui-state-hover\" href=\"#\">19</a></td><td class=\" ui-datepicker-week-end  ui-datepicker-today\" data-handler=\"selectDay\" data-event=\"click\" data-month=\"4\" data-year=\"2023\"><a class=\"ui-state-default ui-state-highlight\" href=\"#\">20</a></td><td class=\" ui-datepicker-week-end \" data-handler=\"selectDay\" data-event=\"click\" data-month=\"4\" data-year=\"2023\"><a class=\"ui-state-default\" href=\"#\">21</a></td></tr><tr><td class=\" \" data-handler=\"selectDay\" data-event=\"click\" data-month=\"4\" data-year=\"2023\"><a class=\"ui-state-default\" href=\"#\">22</a></td><td class=\" \" data-handler=\"selectDay\" data-event=\"click\" data-month=\"4\" data-year=\"2023\"><a class=\"ui-state-default\" href=\"#\">23</a></td><td class=\" \" data-handler=\"selectDay\" data-event=\"click\" data-month=\"4\" data-year=\"2023\"><a class=\"ui-state-default\" href=\"#\">24</a></td><td class=\" \" data-handler=\"selectDay\" data-event=\"click\" data-month=\"4\" data-year=\"2023\"><a class=\"ui-state-default\" href=\"#\">25</a></td><td class=\" \" data-handler=\"selectDay\" data-event=\"click\" data-month=\"4\" data-year=\"2023\"><a class=\"ui-state-default\" href=\"#\">26</a></td><td class=\" ui-datepicker-week-end \" data-handler=\"selectDay\" data-event=\"click\" data-month=\"4\" data-year=\"2023\"><a class=\"ui-state-default\" href=\"#\">27</a></td><td class=\" ui-datepicker-week-end \" data-handler=\"selectDay\" data-event=\"click\" data-month=\"4\" data-year=\"2023\"><a class=\"ui-state-default\" href=\"#\">28</a></td></tr><tr><td class=\" \" data-handler=\"selectDay\" data-event=\"click\" data-month=\"4\" data-year=\"2023\"><a class=\"ui-state-default\" href=\"#\">29</a></td><td class=\" \" data-handler=\"selectDay\" data-event=\"click\" data-month=\"4\" data-year=\"2023\"><a class=\"ui-state-default\" href=\"#\">30</a></td><td class=\" \" data-handler=\"selectDay\" data-event=\"click\" data-month=\"4\" data-year=\"2023\"><a class=\"ui-state-default\" href=\"#\">31</a></td><td class=\" ui-datepicker-other-month ui-datepicker-unselectable ui-state-disabled\">&nbsp;</td><td class=\" ui-datepicker-other-month ui-datepicker-unselectable ui-state-disabled\">&nbsp;</td><td class=\" ui-datepicker-week-end ui-datepicker-other-month ui-datepicker-unselectable ui-state-disabled\">&nbsp;</td><td class=\" ui-datepicker-week-end ui-datepicker-other-month ui-datepicker-unselectable ui-state-disabled\">&nbsp;</td></tr></tbody></table>'"
      ]
     },
     "execution_count": 23,
     "metadata": {},
     "output_type": "execute_result"
    }
   ],
   "source": [
    "# calendar\n",
    "table_data[-1].get_attribute(\"outerHTML\")"
   ]
  },
  {
   "cell_type": "code",
   "execution_count": 24,
   "metadata": {},
   "outputs": [],
   "source": [
    "def get_event_data(event_data):\n",
    "    # Event data\n",
    "    soup = bs(event_data, 'html.parser')\n",
    "    tds = soup.find_all('td')\n",
    "    # date, players\n",
    "    splitted_str = tds[0].text.split('  ')\n",
    "    event_date = splitted_str[0].strip()\n",
    "    event_players = splitted_str[1][:-1].strip()\n",
    "    # event\n",
    "    event = tds[1].text.split(' Теннис :  ')[1].strip()\n",
    "    # result\n",
    "    try:\n",
    "        result = tds[2].text.split('\\t')[2]\n",
    "        splitted_result = result.split(', ')\n",
    "        score = splitted_result[0].strip()\n",
    "        winner = splitted_result[1][:-1].strip()\n",
    "    except IndexError:\n",
    "        score, winner = None, None\n",
    "    return event_date, event_players, event, score, winner\n",
    "\n",
    "\n",
    "def get_coefficients_data(table_data):\n",
    "    # coefficients data \n",
    "    soup = bs(table_data, 'html.parser')\n",
    "    columns = [x.text.strip() for x in soup.find_all('th')]\n",
    "    table_data = soup.find_all('td')\n",
    "    rows = []\n",
    "    for i in range(0, len(table_data), len(columns)):\n",
    "        row = table_data[i-len(columns):i]\n",
    "        rows.append(row)\n",
    "    rows = np.array(rows[1:], dtype=object)\n",
    "    data_function = np.vectorize(lambda x: x.text.strip())\n",
    "    rows = data_function(rows)\n",
    "    df_event = pd.DataFrame(columns=columns, data=rows)\n",
    "    nan_value = float(\"NaN\")\n",
    "    df_event.replace(\"\", nan_value, inplace=True)\n",
    "    df_event.dropna(how='all', axis=1, inplace=True)\n",
    "    return df_event"
   ]
  },
  {
   "cell_type": "code",
   "execution_count": 25,
   "metadata": {},
   "outputs": [],
   "source": [
    "# one page parsing\n",
    "df_events = pd.DataFrame()\n",
    "dict_odds = {}\n",
    "events = []\n",
    "for table in table_data:\n",
    "    id_ = str(uuid.uuid4())[:8]\n",
    "    table_html = table.get_attribute('outerHTML')\n",
    "    if 'class=\"event\"' in table_html:\n",
    "        events.append(tuple([id_])+get_event_data(table_html))\n",
    "    if 'Дата-время скана линии' in table_html :\n",
    "        dict_odds[id_] = get_coefficients_data(table_html)\n",
    "df_events = pd.DataFrame(\n",
    "    columns=['id', 'date', 'players', 'event', 'score', 'winner'],\n",
    "    data=events\n",
    ")"
   ]
  },
  {
   "cell_type": "code",
   "execution_count": 26,
   "metadata": {},
   "outputs": [],
   "source": [
    "# # Event data\n",
    "# event_data = table_data[1].get_attribute('outerHTML')\n",
    "# soup = bs(event_data, 'html.parser')\n",
    "# tds = soup.find_all('td')\n",
    "\n",
    "# # date, players\n",
    "# splitted_str = tds[0].text.split('  ')\n",
    "# event_date = splitted_str[0].strip()\n",
    "# event_players = splitted_str[1][:-1].strip()\n",
    "\n",
    "# # event\n",
    "# event = tds[1].text.split(' Теннис :  ')[1].strip()\n",
    "\n",
    "# # result\n",
    "# result = tds[2].text.split('\\t')[2]\n",
    "# splitted_result = result.split(', ')\n",
    "# score = splitted_result[0].strip()\n",
    "# winner = splitted_result[1][:-1].strip()"
   ]
  },
  {
   "cell_type": "code",
   "execution_count": 27,
   "metadata": {},
   "outputs": [],
   "source": [
    "# # coefficients data \n",
    "# table = table_data[2].get_attribute('outerHTML')\n",
    "# soup = bs(table, 'html.parser')\n",
    "# columns = [x.text.strip() for x in soup.find_all('th')]\n",
    "# table_data = soup.find_all('td')\n",
    "# rows = []\n",
    "# for i in range(0, len(table_data), len(columns)):\n",
    "#     row = table_data[i-len(columns):i]\n",
    "#     rows.append(row)\n",
    "# rows = np.array(rows[1:], dtype=object)\n",
    "# data_function = np.vectorize(lambda x: x.text.strip())\n",
    "# rows = data_function(rows)\n",
    "# df_event = pd.DataFrame(columns=columns, data=rows)\n",
    "# nan_value = float(\"NaN\")\n",
    "# df_event.replace(\"\", nan_value, inplace=True)\n",
    "# df_event.dropna(how='all', axis=1, inplace=True)"
   ]
  },
  {
   "cell_type": "code",
   "execution_count": null,
   "metadata": {},
   "outputs": [],
   "source": []
  },
  {
   "cell_type": "code",
   "execution_count": null,
   "metadata": {},
   "outputs": [],
   "source": []
  },
  {
   "cell_type": "code",
   "execution_count": null,
   "metadata": {},
   "outputs": [],
   "source": []
  },
  {
   "cell_type": "code",
   "execution_count": null,
   "metadata": {},
   "outputs": [],
   "source": []
  }
 ],
 "metadata": {
  "kernelspec": {
   "display_name": "Python 3",
   "language": "python",
   "name": "python3"
  },
  "language_info": {
   "codemirror_mode": {
    "name": "ipython",
    "version": 3
   },
   "file_extension": ".py",
   "mimetype": "text/x-python",
   "name": "python",
   "nbconvert_exporter": "python",
   "pygments_lexer": "ipython3",
   "version": "3.10.11"
  },
  "orig_nbformat": 4
 },
 "nbformat": 4,
 "nbformat_minor": 2
}
