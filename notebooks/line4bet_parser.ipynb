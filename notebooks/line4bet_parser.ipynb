{
 "cells": [
  {
   "cell_type": "code",
   "execution_count": 224,
   "metadata": {},
   "outputs": [],
   "source": [
    "import pandas as pd\n",
    "import numpy as np\n",
    "import requests\n",
    "from bs4 import BeautifulSoup as bs\n",
    "from selenium import webdriver\n",
    "from selenium.webdriver.common.keys import Keys\n",
    "from selenium.webdriver.common.by import By\n",
    "import datetime as dt\n",
    "import uuid\n",
    "from selenium.common.exceptions import StaleElementReferenceException, WebDriverException\n",
    "from tqdm import tqdm"
   ]
  },
  {
   "cell_type": "code",
   "execution_count": 225,
   "metadata": {},
   "outputs": [],
   "source": [
    "url = 'https://line4bet.ru/1x-13-03-2023-football/'"
   ]
  },
  {
   "cell_type": "code",
   "execution_count": 226,
   "metadata": {},
   "outputs": [],
   "source": [
    "driver = webdriver.Chrome()\n",
    "driver.get(url)\n",
    "assert 'Движение линий' in driver.title"
   ]
  },
  {
   "cell_type": "code",
   "execution_count": 227,
   "metadata": {},
   "outputs": [],
   "source": [
    "# \"Теннис\" button searching\n",
    "tennis_btn = driver.find_elements(By.ID, 'tennis_btn')\n",
    "assert len(tennis_btn) > 0\n",
    "tennis_btn[0].click()"
   ]
  },
  {
   "cell_type": "code",
   "execution_count": 228,
   "metadata": {},
   "outputs": [],
   "source": [
    "# looking for available date\n",
    "previous_date = dt.datetime.today() - dt.timedelta(days=1)\n",
    "prev_day = previous_date.day\n",
    "dates_objects = driver.find_elements(By.XPATH, \"//td[@Data-handler]\")\n",
    "dates_objects[prev_day-1].click()"
   ]
  },
  {
   "cell_type": "code",
   "execution_count": 229,
   "metadata": {},
   "outputs": [],
   "source": [
    "# # gettting all available tables\n",
    "# table_data = driver.find_elements(By.XPATH, \"//table\")"
   ]
  },
  {
   "cell_type": "code",
   "execution_count": 230,
   "metadata": {},
   "outputs": [],
   "source": [
    "# # event\n",
    "# table_data[0].get_attribute('outerHTML')"
   ]
  },
  {
   "cell_type": "code",
   "execution_count": 231,
   "metadata": {},
   "outputs": [],
   "source": [
    "# table_data = driver.find_elements(By.XPATH, \"//table\")"
   ]
  },
  {
   "cell_type": "code",
   "execution_count": 232,
   "metadata": {},
   "outputs": [],
   "source": [
    "# # event data\n",
    "# table_data[1].get_attribute('outerHTML')"
   ]
  },
  {
   "cell_type": "code",
   "execution_count": 233,
   "metadata": {},
   "outputs": [],
   "source": [
    "# # coefficients\n",
    "# table_data[2].get_attribute('outerHTML')"
   ]
  },
  {
   "cell_type": "code",
   "execution_count": 234,
   "metadata": {},
   "outputs": [],
   "source": [
    "# # all three tags above are recursively repeated\n",
    "# table_data[3].get_attribute('outerHTML')"
   ]
  },
  {
   "cell_type": "code",
   "execution_count": 235,
   "metadata": {},
   "outputs": [],
   "source": [
    "# # another table\n",
    "# table_data[-2].get_attribute(\"outerHTML\")"
   ]
  },
  {
   "cell_type": "code",
   "execution_count": 236,
   "metadata": {},
   "outputs": [],
   "source": [
    "# # calendar\n",
    "# table_data[-1].get_attribute(\"outerHTML\")"
   ]
  },
  {
   "cell_type": "code",
   "execution_count": 237,
   "metadata": {},
   "outputs": [],
   "source": [
    "def get_event_data(event_data):\n",
    "    # Event data\n",
    "    soup = bs(event_data, 'html.parser')\n",
    "    tds = soup.find_all('td')\n",
    "    # date, players\n",
    "    splitted_str = tds[0].text.split('  ')\n",
    "    event_date = splitted_str[0].strip()\n",
    "    event_players = splitted_str[1][:-1].strip()\n",
    "    # event\n",
    "    event = tds[1].text.split(' Теннис :  ')[1].strip()\n",
    "    # result\n",
    "    try:\n",
    "        result = tds[2].text.split('\\t')[2]\n",
    "        splitted_result = result.split(', ')\n",
    "        score = splitted_result[0].strip()\n",
    "        winner = splitted_result[1][:-1].strip()\n",
    "    except IndexError:\n",
    "        score, winner = None, None\n",
    "    return event_date, event_players, event, score, winner\n",
    "\n",
    "\n",
    "def get_coefficients_data(table_data):\n",
    "    # coefficients data \n",
    "    soup = bs(table_data, 'html.parser')\n",
    "    columns = [x.text.strip() for x in soup.find_all('th')]\n",
    "    table_data = soup.find_all('td')\n",
    "    rows = []\n",
    "    for i in range(0, len(table_data), len(columns)):\n",
    "        row = table_data[i-len(columns):i]\n",
    "        rows.append(row)\n",
    "    rows = np.array(rows[1:], dtype=object)\n",
    "    data_function = np.vectorize(lambda x: x.text.strip())\n",
    "    rows = data_function(rows)\n",
    "    df_event = pd.DataFrame(columns=columns, data=rows)\n",
    "    nan_value = float(\"NaN\")\n",
    "    df_event.replace(\"\", nan_value, inplace=True)\n",
    "    df_event.dropna(how='all', axis=1, inplace=True)\n",
    "    return df_event"
   ]
  },
  {
   "cell_type": "code",
   "execution_count": 238,
   "metadata": {},
   "outputs": [],
   "source": [
    "# from selenium.webdriver.support.ui import WebDriverWait\n",
    "# from selenium.webdriver.support import expected_conditions as EC\n",
    "# from time import sleep\n",
    "\n",
    "# retry_numbers = 20\n",
    "# df_current_bc_events = pd.DataFrame()\n",
    "# dict_current_bc_odds = {}\n",
    "# npages = driver.find_elements(By.CLASS_NAME, 'pages')\n",
    "# for page in npages:\n",
    "#     skip = False\n",
    "#     for _ in range(retry_numbers):\n",
    "#         try:\n",
    "#             driver.execute_script(\"arguments[0].click();\", page)\n",
    "#         except StaleElementReferenceException as e:\n",
    "#             skip = True\n",
    "#         else:\n",
    "#             break\n",
    "#     if skip:\n",
    "#         continue\n",
    "#     # current page parsing\n",
    "#     page_events = []\n",
    "#     dict_page_odds = {}\n",
    "#     table_data = driver.find_elements(By.XPATH, \"//table\")\n",
    "#     for table in tqdm(table_data):\n",
    "#         id_ = str(uuid.uuid4())[:8]\n",
    "#         skip = False\n",
    "#         for _ in range(retry_numbers):\n",
    "#             try:\n",
    "#                 table_html = table.get_attribute('outerHTML')\n",
    "#             except WebDriverException as e:\n",
    "#                 skip = True\n",
    "#             else:\n",
    "#                 break\n",
    "#         if skip:\n",
    "#             continue\n",
    "#         if 'class=\"event\"' in table_html:\n",
    "#             page_events.append(tuple([id_])+get_event_data(table_html))\n",
    "#         if 'Дата-время скана линии' in table_html :\n",
    "#             dict_page_odds[id_] = get_coefficients_data(table_html)\n",
    "#     df_page_events = pd.DataFrame(\n",
    "#         columns=['id', 'date', 'players', 'event', 'score', 'winner'],\n",
    "#         data=page_events\n",
    "#     )\n",
    "#     df_current_bc_events = pd.concat((df_current_bc_events, df_page_events))\n",
    "#     dict_current_bc_odds.update(dict_page_odds)"
   ]
  },
  {
   "cell_type": "code",
   "execution_count": 239,
   "metadata": {},
   "outputs": [],
   "source": [
    "# from time import sleep\n",
    "\n",
    "# df_current_bc_events = pd.DataFrame()\n",
    "# dict_current_bc_odds = {}\n",
    "# npages = driver.find_elements(By.CLASS_NAME, 'pages')\n",
    "# # driver.execute_script(\"arguments[0].click();\", page)\n",
    "\n",
    "# # current page parsing\n",
    "# page_events = []\n",
    "# dict_page_odds = {}\n",
    "# table_data = driver.find_elements(By.XPATH, \"//table\")\n",
    "# for table in tqdm(table_data):\n",
    "#     id_ = str(uuid.uuid4())[:8]\n",
    "#     table_html = table.get_attribute('outerHTML')\n",
    "#     if 'class=\"event\"' in table_html:\n",
    "#         page_events.append(tuple([id_])+get_event_data(table_html))\n",
    "#     if 'Дата-время скана линии' in table_html :\n",
    "#         dict_page_odds[id_] = get_coefficients_data(table_html)\n",
    "# df_page_events = pd.DataFrame(\n",
    "#     columns=['id', 'date', 'players', 'event', 'score', 'winner'],\n",
    "#     data=page_events\n",
    "# )\n",
    "# df_current_bc_events = pd.concat((df_current_bc_events, df_page_events))\n",
    "# dict_current_bc_odds.update(dict_page_odds)\n",
    "\n",
    "\n",
    "# driver.execute_script(\"arguments[0].click();\", npages[1])\n",
    "# page_events = []\n",
    "# dict_page_odds = {}\n",
    "# table_data = driver.find_elements(By.XPATH, \"//table\")\n",
    "# for i in tqdm(range(len(table_data))):\n",
    "#     id_ = str(uuid.uuid4())[:8]\n",
    "#     retry = True\n",
    "#     while retry:\n",
    "#         try:\n",
    "#             table_html = table_data[i].get_attribute('outerHTML')\n",
    "#         except:\n",
    "#             table_data = driver.find_elements(By.XPATH, \"//table\")\n",
    "#         else:\n",
    "#             retry = False\n",
    "#     if 'class=\"event\"' in table_html:\n",
    "#         page_events.append(tuple([id_])+get_event_data(table_html))\n",
    "#     if 'Дата-время скана линии' in table_html :\n",
    "#         dict_page_odds[id_] = get_coefficients_data(table_html)\n",
    "# df_page_events = pd.DataFrame(\n",
    "#     columns=['id', 'date', 'players', 'event', 'score', 'winner'],\n",
    "#     data=page_events\n",
    "# )\n",
    "# df_current_bc_events = pd.concat((df_current_bc_events, df_page_events))\n",
    "# dict_current_bc_odds.update(dict_page_odds)"
   ]
  },
  {
   "cell_type": "code",
   "execution_count": 240,
   "metadata": {},
   "outputs": [],
   "source": [
    "# df_current_bc_events = pd.DataFrame()\n",
    "# dict_current_bc_odds = {}\n",
    "# npages = driver.find_elements(By.CLASS_NAME, 'pages')\n",
    "# # pages iterating\n",
    "# for i in range(len(npages)):\n",
    "#     try:\n",
    "#         driver.execute_script(\"arguments[0].click();\", npages[i])\n",
    "#     except StaleElementReferenceException:\n",
    "#         npages = driver.find_elements(By.CLASS_NAME, 'pages')\n",
    "#         driver.execute_script(\"arguments[0].click();\", npages[i])\n",
    "#     print([npages[i].text for i in range(len(npages))])\n",
    "#     # iterating over all tables on page\n",
    "#     page_events = []\n",
    "#     dict_page_odds = {}\n",
    "#     table_data = driver.find_elements(By.XPATH, \"//table\")\n",
    "#     temp = table_data.copy()\n",
    "#     print(len(table_data))\n",
    "#     for j in tqdm(range(len(table_data))):\n",
    "#         id_ = str(uuid.uuid4())[:8]\n",
    "#         try:\n",
    "#             table_html = table_data[j].get_attribute('outerHTML')\n",
    "#         except (StaleElementReferenceException, WebDriverException):\n",
    "#             table_data = driver.find_elements(By.XPATH, \"//table\")\n",
    "#             table_html = table_data[j].get_attribute('outerHTML')\n",
    "#         except IndexError:\n",
    "#             break\n",
    "#         if 'class=\"event\"' in table_html:\n",
    "#             page_events.append(tuple([id_])+get_event_data(table_html)+tuple([str(i+1)]))\n",
    "#         if 'Дата-время скана линии' in table_html:\n",
    "#             dict_page_odds[id_] = get_coefficients_data(table_html)\n",
    "#     df_page_events = pd.DataFrame(\n",
    "#         columns=['id', 'date', 'players', 'event', 'score', 'winner', 'bc_page'],\n",
    "#         data=page_events\n",
    "#     )\n",
    "#     df_current_bc_events = pd.concat((df_current_bc_events, df_page_events))\n",
    "#     dict_current_bc_odds.update(dict_page_odds)"
   ]
  },
  {
   "cell_type": "code",
   "execution_count": 241,
   "metadata": {},
   "outputs": [],
   "source": [
    "# df_current_bc_events = pd.DataFrame()\n",
    "# dict_current_bc_odds = {}\n",
    "# npages = driver.find_elements(By.CLASS_NAME, 'pages')\n",
    "# # pages iterating\n",
    "\n",
    "# # 1\n",
    "# i = 0\n",
    "# try:\n",
    "#     driver.execute_script(\"arguments[0].click();\", npages[i])\n",
    "# except StaleElementReferenceException:\n",
    "#     npages = driver.find_elements(By.CLASS_NAME, 'pages')\n",
    "#     driver.execute_script(\"arguments[0].click();\", npages[i])\n",
    "# # iterating over all tables on page\n",
    "# page_events = []\n",
    "# dict_page_odds = {}\n",
    "# table_data = driver.find_elements(By.XPATH, \"//table\")\n",
    "# temp = table_data.copy()\n",
    "# print(len(table_data))\n",
    "# for j in tqdm(range(len(table_data))):\n",
    "#     id_ = str(uuid.uuid4())[:8]\n",
    "#     try:\n",
    "#         table_html = table_data[j].get_attribute('outerHTML')\n",
    "#     except (StaleElementReferenceException, WebDriverException):\n",
    "#         table_data = driver.find_elements(By.XPATH, \"//table\")\n",
    "#         table_html = table_data[j].get_attribute('outerHTML')\n",
    "#     except IndexError:\n",
    "#         break\n",
    "#     if 'class=\"event\"' in table_html:\n",
    "#         page_events.append(tuple([id_])+get_event_data(table_html)+tuple([str(i+1)]))\n",
    "#     if 'Дата-время скана линии' in table_html:\n",
    "#         dict_page_odds[id_] = get_coefficients_data(table_html)\n",
    "# df_page_events = pd.DataFrame(\n",
    "#     columns=['id', 'date', 'players', 'event', 'score', 'winner', 'bc_page'],\n",
    "#     data=page_events\n",
    "# )\n",
    "# df_current_bc_events = pd.concat((df_current_bc_events, df_page_events))\n",
    "# dict_current_bc_odds.update(dict_page_odds)\n",
    "\n",
    "\n",
    "# # 2\n",
    "# i = 1\n",
    "# npages = driver.find_elements(By.CLASS_NAME, 'pages')\n",
    "# try:\n",
    "#     driver.execute_script(\"arguments[0].click();\", npages[i])\n",
    "# except StaleElementReferenceException:\n",
    "#     npages = driver.find_elements(By.CLASS_NAME, 'pages')\n",
    "#     driver.execute_script(\"arguments[0].click();\", npages[i])\n",
    "# # iterating over all tables on page\n",
    "# page_events = []\n",
    "# dict_page_odds = {}\n",
    "# table_data = driver.find_elements(By.XPATH, \"//table\")\n",
    "# for j in tqdm(range(len(table_data))):\n",
    "#     id_ = str(uuid.uuid4())[:8]\n",
    "#     try:\n",
    "#         table_html = table_data[j].get_attribute('outerHTML')\n",
    "#     except (StaleElementReferenceException, WebDriverException):\n",
    "#         table_data = driver.find_elements(By.XPATH, \"//table\")\n",
    "#         table_html = table_data[j].get_attribute('outerHTML')\n",
    "#     # except IndexError:\n",
    "#     #     break\n",
    "#     if 'class=\"event\"' in table_html:\n",
    "#         page_events.append(tuple([id_])+get_event_data(table_html)+tuple([str(i+1)]))\n",
    "#     if 'Дата-время скана линии' in table_html:\n",
    "#         dict_page_odds[id_] = get_coefficients_data(table_html)\n",
    "# df_page_events = pd.DataFrame(\n",
    "#     columns=['id', 'date', 'players', 'event', 'score', 'winner', 'bc_page'],\n",
    "#     data=page_events\n",
    "# )\n",
    "# df_current_bc_events = pd.concat((df_current_bc_events, df_page_events))\n",
    "# dict_current_bc_odds.update(dict_page_odds)"
   ]
  },
  {
   "cell_type": "code",
   "execution_count": 242,
   "metadata": {},
   "outputs": [],
   "source": [
    "# dict_page_odds.keys()"
   ]
  },
  {
   "cell_type": "code",
   "execution_count": 243,
   "metadata": {},
   "outputs": [],
   "source": [
    "# set(df_current_bc_events[df_current_bc_events['bc_page']=='1']['id']) & set(df_current_bc_events[df_current_bc_events['bc_page']=='2']['id'])"
   ]
  },
  {
   "attachments": {},
   "cell_type": "markdown",
   "metadata": {},
   "source": [
    "<h1>Что-то не вышло :(</h1>"
   ]
  },
  {
   "attachments": {},
   "cell_type": "markdown",
   "metadata": {},
   "source": [
    "Попробуем больше векторизации"
   ]
  },
  {
   "cell_type": "code",
   "execution_count": 268,
   "metadata": {},
   "outputs": [],
   "source": [
    "from time import sleep \n",
    "from bs4 import BeautifulSoup\n",
    "\n",
    "npages = driver.find_elements(By.CLASS_NAME, 'pages')\n",
    "# pages iterating\n",
    "for i in range(len(npages)):\n",
    "    try:\n",
    "        driver.execute_script(\"arguments[0].click();\", npages[i])\n",
    "    except StaleElementReferenceException:\n",
    "        npages = driver.find_elements(By.CLASS_NAME, 'pages')\n",
    "        driver.execute_script(\"arguments[0].click();\", npages[i])    \n",
    "    html_source_code = driver.execute_script(\"return document.body.innerHTML;\")\n",
    "    html_soup = BeautifulSoup(html_source_code, 'html.parser')\n",
    "    # KEYS TO SURVIVAL\n",
    "    # html_soup.find_all(\"tbody\")\n",
    "    # html_soup.find_all(\"table\", {\"class\": \"event\"})"
   ]
  }
 ],
 "metadata": {
  "kernelspec": {
   "display_name": "Python 3",
   "language": "python",
   "name": "python3"
  },
  "language_info": {
   "codemirror_mode": {
    "name": "ipython",
    "version": 3
   },
   "file_extension": ".py",
   "mimetype": "text/x-python",
   "name": "python",
   "nbconvert_exporter": "python",
   "pygments_lexer": "ipython3",
   "version": "3.10.11"
  },
  "orig_nbformat": 4
 },
 "nbformat": 4,
 "nbformat_minor": 2
}
