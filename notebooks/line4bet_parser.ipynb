{
 "cells": [
  {
   "cell_type": "code",
   "execution_count": 1,
   "metadata": {},
   "outputs": [],
   "source": [
    "import pandas as pd\n",
    "import numpy as np\n",
    "import requests\n",
    "from bs4 import BeautifulSoup as bs\n",
    "from selenium import webdriver\n",
    "from selenium.webdriver.common.keys import Keys\n",
    "from selenium.webdriver.common.by import By\n",
    "import datetime as dt\n",
    "import uuid\n",
    "from selenium.common.exceptions import StaleElementReferenceException\n",
    "from tqdm import tqdm"
   ]
  },
  {
   "cell_type": "code",
   "execution_count": 2,
   "metadata": {},
   "outputs": [],
   "source": [
    "url = 'https://line4bet.ru/1x-13-03-2023-football/'"
   ]
  },
  {
   "cell_type": "code",
   "execution_count": 3,
   "metadata": {},
   "outputs": [],
   "source": [
    "driver = webdriver.Chrome()\n",
    "driver.get(url)\n",
    "assert 'Движение линий' in driver.title"
   ]
  },
  {
   "cell_type": "code",
   "execution_count": 4,
   "metadata": {},
   "outputs": [],
   "source": [
    "# \"Теннис\" button searching\n",
    "tennis_btn = driver.find_elements(By.ID, 'tennis_btn')\n",
    "assert len(tennis_btn) > 0\n",
    "tennis_btn[0].click()"
   ]
  },
  {
   "cell_type": "code",
   "execution_count": 5,
   "metadata": {},
   "outputs": [],
   "source": [
    "# looking for available date\n",
    "previous_date = dt.datetime.today() - dt.timedelta(days=1)\n",
    "prev_day = previous_date.day\n",
    "dates_objects = driver.find_elements(By.XPATH, \"//td[@Data-handler]\")\n",
    "dates_objects[prev_day-1].click()"
   ]
  },
  {
   "cell_type": "code",
   "execution_count": 6,
   "metadata": {},
   "outputs": [],
   "source": [
    "# gettting all available tables\n",
    "table_data = driver.find_elements(By.XPATH, \"//table\")"
   ]
  },
  {
   "cell_type": "code",
   "execution_count": 7,
   "metadata": {},
   "outputs": [
    {
     "data": {
      "text/plain": [
       "'<table class=\"ui-datepicker-calendar\"><thead><tr><th scope=\"col\"><span title=\"Понедельник\">Пн</span></th><th scope=\"col\"><span title=\"Вторник\">Вт</span></th><th scope=\"col\"><span title=\"Среда\">Ср</span></th><th scope=\"col\"><span title=\"Четверг\">Чт</span></th><th scope=\"col\"><span title=\"Пятница\">Пт</span></th><th scope=\"col\" class=\"ui-datepicker-week-end\"><span title=\"Суббота\">Сб</span></th><th scope=\"col\" class=\"ui-datepicker-week-end\"><span title=\"Воскресенье\">Вс</span></th></tr></thead><tbody><tr><td class=\" \" data-handler=\"selectDay\" data-event=\"click\" data-month=\"4\" data-year=\"2023\"><a class=\"ui-state-default\" href=\"#\">1</a></td><td class=\" \" data-handler=\"selectDay\" data-event=\"click\" data-month=\"4\" data-year=\"2023\"><a class=\"ui-state-default\" href=\"#\">2</a></td><td class=\" \" data-handler=\"selectDay\" data-event=\"click\" data-month=\"4\" data-year=\"2023\"><a class=\"ui-state-default\" href=\"#\">3</a></td><td class=\" \" data-handler=\"selectDay\" data-event=\"click\" data-month=\"4\" data-year=\"2023\"><a class=\"ui-state-default\" href=\"#\">4</a></td><td class=\" \" data-handler=\"selectDay\" data-event=\"click\" data-month=\"4\" data-year=\"2023\"><a class=\"ui-state-default\" href=\"#\">5</a></td><td class=\" ui-datepicker-week-end \" data-handler=\"selectDay\" data-event=\"click\" data-month=\"4\" data-year=\"2023\"><a class=\"ui-state-default\" href=\"#\">6</a></td><td class=\" ui-datepicker-week-end \" data-handler=\"selectDay\" data-event=\"click\" data-month=\"4\" data-year=\"2023\"><a class=\"ui-state-default\" href=\"#\">7</a></td></tr><tr><td class=\" \" data-handler=\"selectDay\" data-event=\"click\" data-month=\"4\" data-year=\"2023\"><a class=\"ui-state-default\" href=\"#\">8</a></td><td class=\" \" data-handler=\"selectDay\" data-event=\"click\" data-month=\"4\" data-year=\"2023\"><a class=\"ui-state-default\" href=\"#\">9</a></td><td class=\" \" data-handler=\"selectDay\" data-event=\"click\" data-month=\"4\" data-year=\"2023\"><a class=\"ui-state-default\" href=\"#\">10</a></td><td class=\" \" data-handler=\"selectDay\" data-event=\"click\" data-month=\"4\" data-year=\"2023\"><a class=\"ui-state-default\" href=\"#\">11</a></td><td class=\" \" data-handler=\"selectDay\" data-event=\"click\" data-month=\"4\" data-year=\"2023\"><a class=\"ui-state-default\" href=\"#\">12</a></td><td class=\" ui-datepicker-week-end \" data-handler=\"selectDay\" data-event=\"click\" data-month=\"4\" data-year=\"2023\"><a class=\"ui-state-default\" href=\"#\">13</a></td><td class=\" ui-datepicker-week-end \" data-handler=\"selectDay\" data-event=\"click\" data-month=\"4\" data-year=\"2023\"><a class=\"ui-state-default\" href=\"#\">14</a></td></tr><tr><td class=\" \" data-handler=\"selectDay\" data-event=\"click\" data-month=\"4\" data-year=\"2023\"><a class=\"ui-state-default\" href=\"#\">15</a></td><td class=\" \" data-handler=\"selectDay\" data-event=\"click\" data-month=\"4\" data-year=\"2023\"><a class=\"ui-state-default\" href=\"#\">16</a></td><td class=\" \" data-handler=\"selectDay\" data-event=\"click\" data-month=\"4\" data-year=\"2023\"><a class=\"ui-state-default\" href=\"#\">17</a></td><td class=\" \" data-handler=\"selectDay\" data-event=\"click\" data-month=\"4\" data-year=\"2023\"><a class=\"ui-state-default\" href=\"#\">18</a></td><td class=\" \" data-handler=\"selectDay\" data-event=\"click\" data-month=\"4\" data-year=\"2023\"><a class=\"ui-state-default\" href=\"#\">19</a></td><td class=\" ui-datepicker-week-end  ui-datepicker-current-day\" data-handler=\"selectDay\" data-event=\"click\" data-month=\"4\" data-year=\"2023\"><a class=\"ui-state-default ui-state-active ui-state-hover\" href=\"#\">20</a></td><td class=\" ui-datepicker-week-end  ui-datepicker-today\" data-handler=\"selectDay\" data-event=\"click\" data-month=\"4\" data-year=\"2023\"><a class=\"ui-state-default ui-state-highlight\" href=\"#\">21</a></td></tr><tr><td class=\" \" data-handler=\"selectDay\" data-event=\"click\" data-month=\"4\" data-year=\"2023\"><a class=\"ui-state-default\" href=\"#\">22</a></td><td class=\" \" data-handler=\"selectDay\" data-event=\"click\" data-month=\"4\" data-year=\"2023\"><a class=\"ui-state-default\" href=\"#\">23</a></td><td class=\" \" data-handler=\"selectDay\" data-event=\"click\" data-month=\"4\" data-year=\"2023\"><a class=\"ui-state-default\" href=\"#\">24</a></td><td class=\" \" data-handler=\"selectDay\" data-event=\"click\" data-month=\"4\" data-year=\"2023\"><a class=\"ui-state-default\" href=\"#\">25</a></td><td class=\" \" data-handler=\"selectDay\" data-event=\"click\" data-month=\"4\" data-year=\"2023\"><a class=\"ui-state-default\" href=\"#\">26</a></td><td class=\" ui-datepicker-week-end \" data-handler=\"selectDay\" data-event=\"click\" data-month=\"4\" data-year=\"2023\"><a class=\"ui-state-default\" href=\"#\">27</a></td><td class=\" ui-datepicker-week-end \" data-handler=\"selectDay\" data-event=\"click\" data-month=\"4\" data-year=\"2023\"><a class=\"ui-state-default\" href=\"#\">28</a></td></tr><tr><td class=\" \" data-handler=\"selectDay\" data-event=\"click\" data-month=\"4\" data-year=\"2023\"><a class=\"ui-state-default\" href=\"#\">29</a></td><td class=\" \" data-handler=\"selectDay\" data-event=\"click\" data-month=\"4\" data-year=\"2023\"><a class=\"ui-state-default\" href=\"#\">30</a></td><td class=\" \" data-handler=\"selectDay\" data-event=\"click\" data-month=\"4\" data-year=\"2023\"><a class=\"ui-state-default\" href=\"#\">31</a></td><td class=\" ui-datepicker-other-month ui-datepicker-unselectable ui-state-disabled\">&nbsp;</td><td class=\" ui-datepicker-other-month ui-datepicker-unselectable ui-state-disabled\">&nbsp;</td><td class=\" ui-datepicker-week-end ui-datepicker-other-month ui-datepicker-unselectable ui-state-disabled\">&nbsp;</td><td class=\" ui-datepicker-week-end ui-datepicker-other-month ui-datepicker-unselectable ui-state-disabled\">&nbsp;</td></tr></tbody></table>'"
      ]
     },
     "execution_count": 7,
     "metadata": {},
     "output_type": "execute_result"
    }
   ],
   "source": [
    "# event\n",
    "table_data[0].get_attribute('outerHTML')"
   ]
  },
  {
   "cell_type": "code",
   "execution_count": 8,
   "metadata": {},
   "outputs": [],
   "source": [
    "table_data = driver.find_elements(By.XPATH, \"//table\")"
   ]
  },
  {
   "cell_type": "code",
   "execution_count": 9,
   "metadata": {},
   "outputs": [
    {
     "data": {
      "text/plain": [
       "'<table class=\"event\"><tbody><tr><td>20.05.2023 12:00   Абедалла Шелбайх - Стефано Травалиа;      (ID=659)</td> <td> Теннис :  ATP. Женева. Квалификация </td> </tr> <tr><td colspan=\"2\">Итог матча:\\t    </td></tr> </tbody></table>'"
      ]
     },
     "execution_count": 9,
     "metadata": {},
     "output_type": "execute_result"
    }
   ],
   "source": [
    "# event data\n",
    "table_data[1].get_attribute('outerHTML')"
   ]
  },
  {
   "cell_type": "code",
   "execution_count": 10,
   "metadata": {},
   "outputs": [
    {
     "data": {
      "text/plain": [
       "'<table>   <tbody><tr> <th> Дата-время скана линии </th><th> П1 </th><th> П2 </th><th> 1Х </th><th> 2Х </th><th> Х </th><th> 12 </th><th> ТМ </th><th> ТМ бол </th><th> ТМ мен </th><th> ФОРА 1 </th><th> Коэф Ф1 </th><th> ФОРА 2 </th><th> Коэф Ф2 </th><th> Инд ТОТ 1 </th><th> ИТ1 бол </th><th> ИТ1 мен </th><th> Инд ТОТ 2 </th><th> ИТ2 бол </th><th> ИТ2 мен </th><th> Прим. </th></tr> <tr>  <td>20 май 11:50 </td><td>1,9</td><td>1,83</td><td></td><td></td><td></td><td></td><td>22,5</td><td>1,91</td><td>1,82</td><td>0,5</td><td>1,8</td><td>-0,5</td><td>1,86</td><td>12,5</td><td>1,93</td><td>1,74</td><td>12,5</td><td>1,91</td><td>1,76</td><td></td> </tr>  <tr>  <td>20 май 12:00 </td><td class=\"c2\">1,83</td><td class=\"c1\">1,98</td><td></td><td></td><td></td><td></td><td>22,5</td><td class=\"c2\">1,9</td><td class=\"c1\">1,9</td><td>0,5</td><td>1,8</td><td>-0,5</td><td>1,86</td><td>12,5</td><td class=\"c1\">2</td><td class=\"c2\">1,73</td><td>12,5</td><td class=\"c1\">2</td><td class=\"c2\">1,73</td><td></td> </tr>  <tr>  <td>ИТОГО (%)</td><td class=\"c2\">-3,7</td><td class=\"c1\">8,2</td> <td> </td> <td> </td> <td> </td> <td> </td> <td> </td><td class=\"c2\">-0,5</td><td class=\"c1\">4,4</td> <td> </td><td class=\"c1\">0</td> <td> </td><td class=\"c1\">0</td> <td> </td><td class=\"c1\">3,6</td><td class=\"c2\">-0,6</td> <td> </td><td class=\"c1\">4,7</td><td class=\"c2\">-1,7</td> <td> </td> </tr>  </tbody></table>'"
      ]
     },
     "execution_count": 10,
     "metadata": {},
     "output_type": "execute_result"
    }
   ],
   "source": [
    "# coefficients\n",
    "table_data[2].get_attribute('outerHTML')"
   ]
  },
  {
   "cell_type": "code",
   "execution_count": 11,
   "metadata": {},
   "outputs": [
    {
     "data": {
      "text/plain": [
       "'<table class=\"event\"><tbody><tr><td>20.05.2023 12:00   Даниэль Ринкон - Сальваторе Карузо;      (ID=660)</td> <td> Теннис :  ATP. Женева. Квалификация </td> </tr> <tr><td colspan=\"2\">Итог матча:\\t    </td></tr> </tbody></table>'"
      ]
     },
     "execution_count": 11,
     "metadata": {},
     "output_type": "execute_result"
    }
   ],
   "source": [
    "# all three tags above are recursively repeated\n",
    "table_data[3].get_attribute('outerHTML')"
   ]
  },
  {
   "cell_type": "code",
   "execution_count": 12,
   "metadata": {},
   "outputs": [
    {
     "data": {
      "text/plain": [
       "'<table>   <tbody><tr> <th> Дата-время скана линии </th><th> П1 </th><th> П2 </th><th> 1Х </th><th> 2Х </th><th> Х </th><th> 12 </th><th> ТМ </th><th> ТМ бол </th><th> ТМ мен </th><th> ФОРА 1 </th><th> Коэф Ф1 </th><th> ФОРА 2 </th><th> Коэф Ф2 </th><th> Инд ТОТ 1 </th><th> ИТ1 бол </th><th> ИТ1 мен </th><th> Инд ТОТ 2 </th><th> ИТ2 бол </th><th> ИТ2 мен </th><th> Прим. </th></tr> <tr>  <td>20 май 12:00 </td><td>2,57</td><td>1,46</td><td></td><td></td><td></td><td></td><td>20,5</td><td>1,85</td><td>1,85</td><td>3,5</td><td>1,89</td><td>-3,5</td><td>1,81</td><td>11,5</td><td>1,86</td><td>1,8</td><td>12,5</td><td>2,12</td><td>1,61</td><td></td> </tr>  <tr>  <td>20 май 12:30 </td><td class=\"c1\">2,6</td><td class=\"c2\">1,45</td><td></td><td></td><td></td><td></td><td>20,5</td><td>1,85</td><td>1,85</td><td>3,5</td><td class=\"c1\">1,91</td><td>-3,5</td><td class=\"c2\">1,79</td><td>11,5</td><td class=\"c1\">1,88</td><td class=\"c2\">1,78</td><td>12,5</td><td>2,12</td><td>1,61</td><td></td> </tr>  <tr>  <td>ИТОГО (%)</td><td class=\"c1\">1,2</td><td class=\"c2\">-0,7</td> <td> </td> <td> </td> <td> </td> <td> </td> <td> </td><td class=\"c1\">0</td><td class=\"c1\">0</td> <td> </td><td class=\"c1\">1,1</td> <td> </td><td class=\"c2\">-1,1</td> <td> </td><td class=\"c1\">1,1</td><td class=\"c2\">-1,1</td> <td> </td><td class=\"c1\">0</td><td class=\"c1\">0</td> <td> </td> </tr>  </tbody></table>'"
      ]
     },
     "execution_count": 12,
     "metadata": {},
     "output_type": "execute_result"
    }
   ],
   "source": [
    "# another table\n",
    "table_data[-2].get_attribute(\"outerHTML\")"
   ]
  },
  {
   "cell_type": "code",
   "execution_count": 13,
   "metadata": {},
   "outputs": [
    {
     "data": {
      "text/plain": [
       "'<table class=\"ui-datepicker-calendar\"><thead><tr><th scope=\"col\"><span title=\"Понедельник\">Пн</span></th><th scope=\"col\"><span title=\"Вторник\">Вт</span></th><th scope=\"col\"><span title=\"Среда\">Ср</span></th><th scope=\"col\"><span title=\"Четверг\">Чт</span></th><th scope=\"col\"><span title=\"Пятница\">Пт</span></th><th scope=\"col\" class=\"ui-datepicker-week-end\"><span title=\"Суббота\">Сб</span></th><th scope=\"col\" class=\"ui-datepicker-week-end\"><span title=\"Воскресенье\">Вс</span></th></tr></thead><tbody><tr><td class=\" \" data-handler=\"selectDay\" data-event=\"click\" data-month=\"4\" data-year=\"2023\"><a class=\"ui-state-default\" href=\"#\">1</a></td><td class=\" \" data-handler=\"selectDay\" data-event=\"click\" data-month=\"4\" data-year=\"2023\"><a class=\"ui-state-default\" href=\"#\">2</a></td><td class=\" \" data-handler=\"selectDay\" data-event=\"click\" data-month=\"4\" data-year=\"2023\"><a class=\"ui-state-default\" href=\"#\">3</a></td><td class=\" \" data-handler=\"selectDay\" data-event=\"click\" data-month=\"4\" data-year=\"2023\"><a class=\"ui-state-default\" href=\"#\">4</a></td><td class=\" \" data-handler=\"selectDay\" data-event=\"click\" data-month=\"4\" data-year=\"2023\"><a class=\"ui-state-default\" href=\"#\">5</a></td><td class=\" ui-datepicker-week-end \" data-handler=\"selectDay\" data-event=\"click\" data-month=\"4\" data-year=\"2023\"><a class=\"ui-state-default\" href=\"#\">6</a></td><td class=\" ui-datepicker-week-end \" data-handler=\"selectDay\" data-event=\"click\" data-month=\"4\" data-year=\"2023\"><a class=\"ui-state-default\" href=\"#\">7</a></td></tr><tr><td class=\" \" data-handler=\"selectDay\" data-event=\"click\" data-month=\"4\" data-year=\"2023\"><a class=\"ui-state-default\" href=\"#\">8</a></td><td class=\" \" data-handler=\"selectDay\" data-event=\"click\" data-month=\"4\" data-year=\"2023\"><a class=\"ui-state-default\" href=\"#\">9</a></td><td class=\" \" data-handler=\"selectDay\" data-event=\"click\" data-month=\"4\" data-year=\"2023\"><a class=\"ui-state-default\" href=\"#\">10</a></td><td class=\" \" data-handler=\"selectDay\" data-event=\"click\" data-month=\"4\" data-year=\"2023\"><a class=\"ui-state-default\" href=\"#\">11</a></td><td class=\" \" data-handler=\"selectDay\" data-event=\"click\" data-month=\"4\" data-year=\"2023\"><a class=\"ui-state-default\" href=\"#\">12</a></td><td class=\" ui-datepicker-week-end \" data-handler=\"selectDay\" data-event=\"click\" data-month=\"4\" data-year=\"2023\"><a class=\"ui-state-default\" href=\"#\">13</a></td><td class=\" ui-datepicker-week-end \" data-handler=\"selectDay\" data-event=\"click\" data-month=\"4\" data-year=\"2023\"><a class=\"ui-state-default\" href=\"#\">14</a></td></tr><tr><td class=\" \" data-handler=\"selectDay\" data-event=\"click\" data-month=\"4\" data-year=\"2023\"><a class=\"ui-state-default\" href=\"#\">15</a></td><td class=\" \" data-handler=\"selectDay\" data-event=\"click\" data-month=\"4\" data-year=\"2023\"><a class=\"ui-state-default\" href=\"#\">16</a></td><td class=\" \" data-handler=\"selectDay\" data-event=\"click\" data-month=\"4\" data-year=\"2023\"><a class=\"ui-state-default\" href=\"#\">17</a></td><td class=\" \" data-handler=\"selectDay\" data-event=\"click\" data-month=\"4\" data-year=\"2023\"><a class=\"ui-state-default\" href=\"#\">18</a></td><td class=\" \" data-handler=\"selectDay\" data-event=\"click\" data-month=\"4\" data-year=\"2023\"><a class=\"ui-state-default\" href=\"#\">19</a></td><td class=\" ui-datepicker-week-end  ui-datepicker-current-day\" data-handler=\"selectDay\" data-event=\"click\" data-month=\"4\" data-year=\"2023\"><a class=\"ui-state-default ui-state-active ui-state-hover\" href=\"#\">20</a></td><td class=\" ui-datepicker-week-end  ui-datepicker-today\" data-handler=\"selectDay\" data-event=\"click\" data-month=\"4\" data-year=\"2023\"><a class=\"ui-state-default ui-state-highlight\" href=\"#\">21</a></td></tr><tr><td class=\" \" data-handler=\"selectDay\" data-event=\"click\" data-month=\"4\" data-year=\"2023\"><a class=\"ui-state-default\" href=\"#\">22</a></td><td class=\" \" data-handler=\"selectDay\" data-event=\"click\" data-month=\"4\" data-year=\"2023\"><a class=\"ui-state-default\" href=\"#\">23</a></td><td class=\" \" data-handler=\"selectDay\" data-event=\"click\" data-month=\"4\" data-year=\"2023\"><a class=\"ui-state-default\" href=\"#\">24</a></td><td class=\" \" data-handler=\"selectDay\" data-event=\"click\" data-month=\"4\" data-year=\"2023\"><a class=\"ui-state-default\" href=\"#\">25</a></td><td class=\" \" data-handler=\"selectDay\" data-event=\"click\" data-month=\"4\" data-year=\"2023\"><a class=\"ui-state-default\" href=\"#\">26</a></td><td class=\" ui-datepicker-week-end \" data-handler=\"selectDay\" data-event=\"click\" data-month=\"4\" data-year=\"2023\"><a class=\"ui-state-default\" href=\"#\">27</a></td><td class=\" ui-datepicker-week-end \" data-handler=\"selectDay\" data-event=\"click\" data-month=\"4\" data-year=\"2023\"><a class=\"ui-state-default\" href=\"#\">28</a></td></tr><tr><td class=\" \" data-handler=\"selectDay\" data-event=\"click\" data-month=\"4\" data-year=\"2023\"><a class=\"ui-state-default\" href=\"#\">29</a></td><td class=\" \" data-handler=\"selectDay\" data-event=\"click\" data-month=\"4\" data-year=\"2023\"><a class=\"ui-state-default\" href=\"#\">30</a></td><td class=\" \" data-handler=\"selectDay\" data-event=\"click\" data-month=\"4\" data-year=\"2023\"><a class=\"ui-state-default\" href=\"#\">31</a></td><td class=\" ui-datepicker-other-month ui-datepicker-unselectable ui-state-disabled\">&nbsp;</td><td class=\" ui-datepicker-other-month ui-datepicker-unselectable ui-state-disabled\">&nbsp;</td><td class=\" ui-datepicker-week-end ui-datepicker-other-month ui-datepicker-unselectable ui-state-disabled\">&nbsp;</td><td class=\" ui-datepicker-week-end ui-datepicker-other-month ui-datepicker-unselectable ui-state-disabled\">&nbsp;</td></tr></tbody></table>'"
      ]
     },
     "execution_count": 13,
     "metadata": {},
     "output_type": "execute_result"
    }
   ],
   "source": [
    "# calendar\n",
    "table_data[-1].get_attribute(\"outerHTML\")"
   ]
  },
  {
   "cell_type": "code",
   "execution_count": 14,
   "metadata": {},
   "outputs": [],
   "source": [
    "def get_event_data(event_data):\n",
    "    # Event data\n",
    "    soup = bs(event_data, 'html.parser')\n",
    "    tds = soup.find_all('td')\n",
    "    # date, players\n",
    "    splitted_str = tds[0].text.split('  ')\n",
    "    event_date = splitted_str[0].strip()\n",
    "    event_players = splitted_str[1][:-1].strip()\n",
    "    # event\n",
    "    event = tds[1].text.split(' Теннис :  ')[1].strip()\n",
    "    # result\n",
    "    try:\n",
    "        result = tds[2].text.split('\\t')[2]\n",
    "        splitted_result = result.split(', ')\n",
    "        score = splitted_result[0].strip()\n",
    "        winner = splitted_result[1][:-1].strip()\n",
    "    except IndexError:\n",
    "        score, winner = None, None\n",
    "    return event_date, event_players, event, score, winner\n",
    "\n",
    "\n",
    "def get_coefficients_data(table_data):\n",
    "    # coefficients data \n",
    "    soup = bs(table_data, 'html.parser')\n",
    "    columns = [x.text.strip() for x in soup.find_all('th')]\n",
    "    table_data = soup.find_all('td')\n",
    "    rows = []\n",
    "    for i in range(0, len(table_data), len(columns)):\n",
    "        row = table_data[i-len(columns):i]\n",
    "        rows.append(row)\n",
    "    rows = np.array(rows[1:], dtype=object)\n",
    "    data_function = np.vectorize(lambda x: x.text.strip())\n",
    "    rows = data_function(rows)\n",
    "    df_event = pd.DataFrame(columns=columns, data=rows)\n",
    "    nan_value = float(\"NaN\")\n",
    "    df_event.replace(\"\", nan_value, inplace=True)\n",
    "    df_event.dropna(how='all', axis=1, inplace=True)\n",
    "    return df_event"
   ]
  },
  {
   "cell_type": "code",
   "execution_count": 15,
   "metadata": {},
   "outputs": [],
   "source": [
    "# one page parsing\n",
    "df_events = pd.DataFrame()\n",
    "dict_odds = {}\n",
    "events = []\n",
    "for table in table_data:\n",
    "    id_ = str(uuid.uuid4())[:8]\n",
    "    table_html = table.get_attribute('outerHTML')\n",
    "    if 'class=\"event\"' in table_html:\n",
    "        events.append(tuple([id_])+get_event_data(table_html))\n",
    "    if 'Дата-время скана линии' in table_html :\n",
    "        dict_odds[id_] = get_coefficients_data(table_html)\n",
    "df_events = pd.DataFrame(\n",
    "    columns=['id', 'date', 'players', 'event', 'score', 'winner'],\n",
    "    data=events\n",
    ")"
   ]
  },
  {
   "cell_type": "code",
   "execution_count": 24,
   "metadata": {},
   "outputs": [],
   "source": [
    "bc_btn[0].click()"
   ]
  },
  {
   "cell_type": "code",
   "execution_count": 27,
   "metadata": {},
   "outputs": [
    {
     "data": {
      "text/html": [
       "<div>\n",
       "<style scoped>\n",
       "    .dataframe tbody tr th:only-of-type {\n",
       "        vertical-align: middle;\n",
       "    }\n",
       "\n",
       "    .dataframe tbody tr th {\n",
       "        vertical-align: top;\n",
       "    }\n",
       "\n",
       "    .dataframe thead th {\n",
       "        text-align: right;\n",
       "    }\n",
       "</style>\n",
       "<table border=\"1\" class=\"dataframe\">\n",
       "  <thead>\n",
       "    <tr style=\"text-align: right;\">\n",
       "      <th></th>\n",
       "      <th>id</th>\n",
       "      <th>date</th>\n",
       "      <th>players</th>\n",
       "      <th>event</th>\n",
       "      <th>score</th>\n",
       "      <th>winner</th>\n",
       "    </tr>\n",
       "  </thead>\n",
       "  <tbody>\n",
       "    <tr>\n",
       "      <th>0</th>\n",
       "      <td>e133d899</td>\n",
       "      <td>20.05.2023 12:00</td>\n",
       "      <td>Абедалла Шелбайх - Стефано Травалиа</td>\n",
       "      <td>ATP. Женева. Квалификация</td>\n",
       "      <td>None</td>\n",
       "      <td>None</td>\n",
       "    </tr>\n",
       "    <tr>\n",
       "      <th>1</th>\n",
       "      <td>5da7fd41</td>\n",
       "      <td>20.05.2023 12:00</td>\n",
       "      <td>Даниэль Ринкон - Сальваторе Карузо</td>\n",
       "      <td>ATP. Женева. Квалификация</td>\n",
       "      <td>None</td>\n",
       "      <td>None</td>\n",
       "    </tr>\n",
       "    <tr>\n",
       "      <th>2</th>\n",
       "      <td>304fa5be</td>\n",
       "      <td>20.05.2023 12:00</td>\n",
       "      <td>Тьяго Моура Монтейро - Фернандо Вердаско</td>\n",
       "      <td>ATP. Женева. Квалификация</td>\n",
       "      <td>Счет: 2:0 (6:2,6:2)</td>\n",
       "      <td>Победа: Тьяго Моура Монтейро</td>\n",
       "    </tr>\n",
       "    <tr>\n",
       "      <th>3</th>\n",
       "      <td>297950e8</td>\n",
       "      <td>20.05.2023 12:00</td>\n",
       "      <td>Тьяго Моура Монтейро - Фернандо Вердаско</td>\n",
       "      <td>ATP. Женева. Квалификация</td>\n",
       "      <td>None</td>\n",
       "      <td>None</td>\n",
       "    </tr>\n",
       "    <tr>\n",
       "      <th>4</th>\n",
       "      <td>c144282a</td>\n",
       "      <td>20.05.2023 13:30</td>\n",
       "      <td>Артур Казо - Джером Кьюм</td>\n",
       "      <td>ATP. Женева. Квалификация</td>\n",
       "      <td>Счет: 2:1 (7:6,6:7,6:4)</td>\n",
       "      <td>Победа: Артур Казо</td>\n",
       "    </tr>\n",
       "  </tbody>\n",
       "</table>\n",
       "</div>"
      ],
      "text/plain": [
       "         id              date                                   players  \\\n",
       "0  e133d899  20.05.2023 12:00       Абедалла Шелбайх - Стефано Травалиа   \n",
       "1  5da7fd41  20.05.2023 12:00        Даниэль Ринкон - Сальваторе Карузо   \n",
       "2  304fa5be  20.05.2023 12:00  Тьяго Моура Монтейро - Фернандо Вердаско   \n",
       "3  297950e8  20.05.2023 12:00  Тьяго Моура Монтейро - Фернандо Вердаско   \n",
       "4  c144282a  20.05.2023 13:30                  Артур Казо - Джером Кьюм   \n",
       "\n",
       "                       event                    score  \\\n",
       "0  ATP. Женева. Квалификация                     None   \n",
       "1  ATP. Женева. Квалификация                     None   \n",
       "2  ATP. Женева. Квалификация      Счет: 2:0 (6:2,6:2)   \n",
       "3  ATP. Женева. Квалификация                     None   \n",
       "4  ATP. Женева. Квалификация  Счет: 2:1 (7:6,6:7,6:4)   \n",
       "\n",
       "                         winner  \n",
       "0                          None  \n",
       "1                          None  \n",
       "2  Победа: Тьяго Моура Монтейро  \n",
       "3                          None  \n",
       "4            Победа: Артур Казо  "
      ]
     },
     "execution_count": 27,
     "metadata": {},
     "output_type": "execute_result"
    }
   ],
   "source": [
    "df_events.head()"
   ]
  },
  {
   "attachments": {},
   "cell_type": "markdown",
   "metadata": {},
   "source": [
    "dict_allodds: bc -> odds<br>\n",
    "dict_allevents: bc -> events"
   ]
  },
  {
   "cell_type": "code",
   "execution_count": 89,
   "metadata": {},
   "outputs": [
    {
     "name": "stderr",
     "output_type": "stream",
     "text": [
      "bc: 100%|██████████| 4/4 [00:54<00:00, 13.54s/it]\n"
     ]
    }
   ],
   "source": [
    "# one page parser, all bcs\n",
    "retry_number = 5\n",
    "bcs = [\"tab_1x\", \"tab_bc\", \"tab_fb\", \"tab_mf\"]\n",
    "dict_allevents = {bc: pd.DataFrame() for bc in bcs}\n",
    "dict_allodds = {bc: dict() for bc in bcs}\n",
    "for bc in tqdm(bcs, 'bc', position=0):\n",
    "    bc_btn = driver.find_elements(By.ID, bc)\n",
    "    assert len(bc_btn) > 0, f'{bc} is not available'\n",
    "    bc_btn[0].click()\n",
    "    # one page parsing\n",
    "    dict_odds = {}\n",
    "    events = []\n",
    "    table_data = driver.find_elements(By.XPATH, \"//table\")\n",
    "    for table in tqdm(table_data, 'table', position=1, leave=False):\n",
    "        id_ = str(uuid.uuid4())[:8]\n",
    "        for i in range(retry_number):\n",
    "            try:\n",
    "                table_html = table.get_attribute('outerHTML')\n",
    "            except StaleElementReferenceException:\n",
    "                pass\n",
    "            else:\n",
    "                break \n",
    "        if 'class=\"event\"' in table_html:\n",
    "            events.append(tuple([id_])+get_event_data(table_html))\n",
    "        if 'Дата-время скана линии' in table_html :\n",
    "            dict_odds[id_] = get_coefficients_data(table_html)\n",
    "            dict_allodds[bc][id_] = dict_odds[id_]\n",
    "    df_events = pd.DataFrame(\n",
    "        columns=['id', 'date', 'players', 'event', 'score', 'winner'],\n",
    "        data=events\n",
    "    )\n",
    "    dict_allevents[bc] = pd.concat((dict_allevents[bc], df_events))"
   ]
  },
  {
   "cell_type": "code",
   "execution_count": 16,
   "metadata": {},
   "outputs": [],
   "source": [
    "# # Event data\n",
    "# event_data = table_data[1].get_attribute('outerHTML')\n",
    "# soup = bs(event_data, 'html.parser')\n",
    "# tds = soup.find_all('td')\n",
    "\n",
    "# # date, players\n",
    "# splitted_str = tds[0].text.split('  ')\n",
    "# event_date = splitted_str[0].strip()\n",
    "# event_players = splitted_str[1][:-1].strip()\n",
    "\n",
    "# # event\n",
    "# event = tds[1].text.split(' Теннис :  ')[1].strip()\n",
    "\n",
    "# # result\n",
    "# result = tds[2].text.split('\\t')[2]\n",
    "# splitted_result = result.split(', ')\n",
    "# score = splitted_result[0].strip()\n",
    "# winner = splitted_result[1][:-1].strip()"
   ]
  },
  {
   "cell_type": "code",
   "execution_count": 17,
   "metadata": {},
   "outputs": [],
   "source": [
    "# # coefficients data \n",
    "# table = table_data[2].get_attribute('outerHTML')\n",
    "# soup = bs(table, 'html.parser')\n",
    "# columns = [x.text.strip() for x in soup.find_all('th')]\n",
    "# table_data = soup.find_all('td')\n",
    "# rows = []\n",
    "# for i in range(0, len(table_data), len(columns)):\n",
    "#     row = table_data[i-len(columns):i]\n",
    "#     rows.append(row)\n",
    "# rows = np.array(rows[1:], dtype=object)\n",
    "# data_function = np.vectorize(lambda x: x.text.strip())\n",
    "# rows = data_function(rows)\n",
    "# df_event = pd.DataFrame(columns=columns, data=rows)\n",
    "# nan_value = float(\"NaN\")\n",
    "# df_event.replace(\"\", nan_value, inplace=True)\n",
    "# df_event.dropna(how='all', axis=1, inplace=True)"
   ]
  },
  {
   "cell_type": "code",
   "execution_count": null,
   "metadata": {},
   "outputs": [],
   "source": []
  },
  {
   "cell_type": "code",
   "execution_count": null,
   "metadata": {},
   "outputs": [],
   "source": []
  },
  {
   "cell_type": "code",
   "execution_count": null,
   "metadata": {},
   "outputs": [],
   "source": []
  },
  {
   "cell_type": "code",
   "execution_count": null,
   "metadata": {},
   "outputs": [],
   "source": []
  }
 ],
 "metadata": {
  "kernelspec": {
   "display_name": "Python 3",
   "language": "python",
   "name": "python3"
  },
  "language_info": {
   "codemirror_mode": {
    "name": "ipython",
    "version": 3
   },
   "file_extension": ".py",
   "mimetype": "text/x-python",
   "name": "python",
   "nbconvert_exporter": "python",
   "pygments_lexer": "ipython3",
   "version": "3.10.11"
  },
  "orig_nbformat": 4
 },
 "nbformat": 4,
 "nbformat_minor": 2
}
